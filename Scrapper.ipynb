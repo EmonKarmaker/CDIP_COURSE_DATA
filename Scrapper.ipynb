{
  "cells": [
    {
      "cell_type": "code",
      "execution_count": 1,
      "metadata": {
        "colab": {
          "base_uri": "https://localhost:8080/"
        },
        "id": "zOh20DrS1EkR",
        "outputId": "4eb76d11-1f59-4e29-b2e3-d182e81ea2dd"
      },
      "outputs": [
        {
          "name": "stdout",
          "output_type": "stream",
          "text": [
            "Extracted Headings from the page:\n",
            "1. Install Python\n",
            "2. Setting up a Python Development Environment\n",
            "3. Create and Run your First Python Program\n",
            "4. Python Basic Guide\n",
            "5. Beginner Tips for Learning Python Programming\n"
          ]
        }
      ],
      "source": [
        "import requests\n",
        "from bs4 import BeautifulSoup\n",
        "\n",
        "\n",
        "url = \"https://www.geeksforgeeks.org/getting-started-with-python-programming/\"\n",
        "\n",
        "\n",
        "response = requests.get(url)\n",
        "\n",
        "\n",
        "soup = BeautifulSoup(response.content, 'html.parser')\n",
        "\n",
        "\n",
        "headings = soup.find_all('h2')[:5]\n",
        "\n",
        "\n",
        "print(\"Extracted Headings from the page:\")\n",
        "for i, heading in enumerate(headings, start=1):\n",
        "    print(f\"{i}. {heading.text}\")\n"
      ]
    }
  ],
  "metadata": {
    "colab": {
      "provenance": []
    },
    "kernelspec": {
      "display_name": "Python 3",
      "name": "python3"
    },
    "language_info": {
      "name": "python"
    }
  },
  "nbformat": 4,
  "nbformat_minor": 0
}
